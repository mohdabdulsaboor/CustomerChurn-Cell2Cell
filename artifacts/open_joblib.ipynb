{
 "cells": [
  {
   "cell_type": "code",
   "execution_count": 12,
   "metadata": {},
   "outputs": [
    {
     "name": "stdout",
     "output_type": "stream",
     "text": [
      "✅ Preprocessor loaded successfully:\n",
      "ColumnTransformer(transformers=[('num',\n",
      "                                 Pipeline(steps=[('imputer',\n",
      "                                                  SimpleImputer(strategy='median'))]),\n",
      "                                 ['CustomerID', 'MonthlyRevenue',\n",
      "                                  'MonthlyMinutes', 'TotalRecurringCharge',\n",
      "                                  'DirectorAssistedCalls', 'OverageMinutes',\n",
      "                                  'RoamingCalls', 'PercChangeMinutes',\n",
      "                                  'PercChangeRevenues', 'DroppedCalls',\n",
      "                                  'BlockedCalls', 'UnansweredCalls',\n",
      "                                  'CustomerCareCalls', 'ThreewayCal...\n",
      "                                 ['ServiceArea', 'ChildrenInHH',\n",
      "                                  'HandsetRefurbished', 'HandsetWebCapable',\n",
      "                                  'TruckOwner', 'RVOwner', 'Homeownership',\n",
      "                                  'BuysViaMailOrder', 'RespondsToMailOffers',\n",
      "                                  'OptOutMailings', 'NonUSTravel',\n",
      "                                  'OwnsComputer', 'HasCreditCard',\n",
      "                                  'NewCellphoneUser', 'NotNewCellphoneUser',\n",
      "                                  'OwnsMotorcycle', 'HandsetPrice',\n",
      "                                  'MadeCallToRetentionTeam', 'CreditRating',\n",
      "                                  'PrizmCode', 'Occupation',\n",
      "                                  'MaritalStatus'])])\n",
      "\n",
      "✅ Model loaded successfully:\n",
      "Pipeline(steps=[('pre',\n",
      "                 ColumnTransformer(transformers=[('num',\n",
      "                                                  Pipeline(steps=[('imputer',\n",
      "                                                                   SimpleImputer(strategy='median'))]),\n",
      "                                                  ['CustomerID',\n",
      "                                                   'MonthlyRevenue',\n",
      "                                                   'MonthlyMinutes',\n",
      "                                                   'TotalRecurringCharge',\n",
      "                                                   'DirectorAssistedCalls',\n",
      "                                                   'OverageMinutes',\n",
      "                                                   'RoamingCalls',\n",
      "                                                   'PercChangeMinutes',\n",
      "                                                   'PercChangeRevenues',\n",
      "                                                   'DroppedCalls',\n",
      "                                                   'BlockedCalls',\n",
      "                                                   'UnansweredCalls',\n",
      "                                                   'Customer...\n",
      "                                                   'OwnsComputer',\n",
      "                                                   'HasCreditCard',\n",
      "                                                   'NewCellphoneUser',\n",
      "                                                   'NotNewCellphoneUser',\n",
      "                                                   'OwnsMotorcycle',\n",
      "                                                   'HandsetPrice',\n",
      "                                                   'MadeCallToRetentionTeam',\n",
      "                                                   'CreditRating', 'PrizmCode',\n",
      "                                                   'Occupation',\n",
      "                                                   'MaritalStatus'])])),\n",
      "                ('clf',\n",
      "                 RandomForestClassifier(class_weight='balanced_subsample',\n",
      "                                        max_depth=18, min_samples_leaf=2,\n",
      "                                        min_samples_split=5, n_estimators=300,\n",
      "                                        n_jobs=-1, random_state=42))])\n"
     ]
    }
   ],
   "source": [
    "import joblib\n",
    "from sklearn.compose import ColumnTransformer\n",
    "from sklearn.pipeline import Pipeline\n",
    "from sklearn.impute import SimpleImputer\n",
    "from sklearn.ensemble import RandomForestClassifier\n",
    "\n",
    "try:\n",
    "    preprocessor = joblib.load(\"C:/Users/dell/Desktop/Cell2Cell_Project/artifacts/preprocessor.joblib\")\n",
    "    print(\"✅ Preprocessor loaded successfully:\")\n",
    "    print(preprocessor)\n",
    "except Exception as e:\n",
    "    print(\"❌ Error loading preprocessor:\", e)\n",
    "\n",
    "try:\n",
    "    model = joblib.load(\"C:/Users/dell/Desktop/Cell2Cell_Project/artifacts/best_model.joblib\")\n",
    "    print(\"\\n✅ Model loaded successfully:\")\n",
    "    print(model)\n",
    "except Exception as e:\n",
    "    print(\"❌ Error loading model:\", e)"
   ]
  },
  {
   "cell_type": "code",
   "execution_count": null,
   "id": "f81fd003",
   "metadata": {},
   "outputs": [],
   "source": []
  }
 ],
 "metadata": {
  "kernelspec": {
   "display_name": "Python 3",
   "language": "python",
   "name": "python3"
  },
  "language_info": {
   "codemirror_mode": {
    "name": "ipython",
    "version": 3
   },
   "file_extension": ".py",
   "mimetype": "text/x-python",
   "name": "python",
   "nbconvert_exporter": "python",
   "pygments_lexer": "ipython3",
   "version": "3.13.7"
  }
 },
 "nbformat": 4,
 "nbformat_minor": 5
}
